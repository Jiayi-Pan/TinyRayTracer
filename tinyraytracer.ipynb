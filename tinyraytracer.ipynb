{
 "metadata": {
  "language_info": {
   "codemirror_mode": {
    "name": "ipython",
    "version": 3
   },
   "file_extension": ".py",
   "mimetype": "text/x-python",
   "name": "python",
   "nbconvert_exporter": "python",
   "pygments_lexer": "ipython3",
   "version": "3.7.4-final"
  },
  "orig_nbformat": 2,
  "kernelspec": {
   "name": "python3",
   "display_name": "Python 3",
   "language": "python"
  }
 },
 "nbformat": 4,
 "nbformat_minor": 2,
 "cells": [
  {
   "source": [
    "# Tiny ray tracer rewritten in python"
   ],
   "cell_type": "markdown",
   "metadata": {}
  },
  {
   "source": [
    "## Preparation"
   ],
   "cell_type": "markdown",
   "metadata": {}
  },
  {
   "source": [
    "### Import the libraries\n"
   ],
   "cell_type": "markdown",
   "metadata": {}
  },
  {
   "cell_type": "code",
   "execution_count": 400,
   "metadata": {},
   "outputs": [],
   "source": [
    "import math"
   ]
  },
  {
   "source": [
    "### Define 2D / 3D vectors"
   ],
   "cell_type": "markdown",
   "metadata": {}
  },
  {
   "source": [
    "class Vector3f:\n",
    "    def __init__(self,x,y,z):\n",
    "        self.x = x\n",
    "        self.y = y\n",
    "        self.z = z\n",
    "    def __repr__(self):\n",
    "        return \"[Vector3f x=%f y=%f z=%f]\"%(self.x,self.y,self.z)\n",
    "    def __add__(self,o):\n",
    "        return Vector3f(self.x+o.x,self.y+o.y,self.z+o.z)\n",
    "    def __sub__(self,o):\n",
    "        return Vector3f(self.x-o.x,self.y-o.y,self.z-o.z)\n",
    "    def __mul__(self,o):\n",
    "        # scalar product of two vector\n",
    "        return self.x*o.x+self.y*o.y+self.z*o.z\n",
    "    def __rmul__(self,o):\n",
    "        # product with scalar\n",
    "        return Vector3f(self.x*o,self.y*o,self.z*o)\n",
    "    def __iter__(self):\n",
    "        self.prev = None\n",
    "        return self\n",
    "    def __next__(self):\n",
    "        if self.prev == None:\n",
    "            self.prev = 'x'\n",
    "            return self.x\n",
    "        if self.prev == 'x':\n",
    "            self.prev = 'y'\n",
    "            return self.y\n",
    "        if self.prev == 'y':\n",
    "            self.prev = 'z'\n",
    "            return self.z\n",
    "        raise StopIteration\n",
    "    def normalize(self):\n",
    "        d = math.sqrt(self.x**2+self.y**2+self.z**2)\n",
    "        self.x = self.x/d\n",
    "        self.y = self.y/d\n",
    "        self.z = self.z/d\n",
    "    def norm(self):\n",
    "        return math.sqrt(self.x**2+self.y**2+self.z**2)"
   ],
   "cell_type": "code",
   "metadata": {},
   "execution_count": null,
   "outputs": []
  },
  {
   "cell_type": "code",
   "execution_count": null,
   "metadata": {},
   "outputs": [],
   "source": [
    "def renderTest():\n",
    "    # create a frame buffer: framebuffer[width][height]\n",
    "    WIDTH = 1000\n",
    "    HEIGHT = 1000\n",
    "    FILENAME = \"renderTest.ppm\"\n",
    "    framebuffer = [[Vector3f(1,1,1) for y in range(HEIGHT)] for x in range(WIDTH)]\n",
    "    # manipulate the frame buffer\n",
    "    for x in range(WIDTH):\n",
    "        for y in range(HEIGHT):\n",
    "            framebuffer[x][y] = Vector3f(x/WIDTH,y/HEIGHT,0)\n",
    "    # Save it on disk\n",
    "    imageFile = open(FILENAME,\"w\")\n",
    "    imageFile.write(\"P3\\n\")\n",
    "    imageFile.write(\"%i %i \\n255\\n\"%(HEIGHT,WIDTH))\n",
    "    for x in range(WIDTH):\n",
    "        for y in range(HEIGHT):\n",
    "            for color in framebuffer[x][y]:\n",
    "                temp = int(255 * max(0,min(color,1)))\n",
    "                imageFile.write(str(temp)+\" \")\n",
    "    imageFile.close()\n",
    "    "
   ]
  },
  {
   "source": [
    "Run the test and Plot the result"
   ],
   "cell_type": "markdown",
   "metadata": {}
  },
  {
   "cell_type": "code",
   "execution_count": null,
   "metadata": {},
   "outputs": [],
   "source": [
    "renderTest()"
   ]
  },
  {
   "source": [],
   "cell_type": "markdown",
   "metadata": {}
  },
  {
   "source": [
    "## Minimal Ray Tracing"
   ],
   "cell_type": "markdown",
   "metadata": {}
  },
  {
   "cell_type": "code",
   "execution_count": null,
   "metadata": {},
   "outputs": [],
   "source": [
    "class Sphere:\n",
    "    def __init__(self,x,y,z,r):\n",
    "        self.center = Vector3f(x,y,z)\n",
    "        self.r = r\n",
    "    def rayIntersect(self,orig,dir):\n",
    "        # orig is the origin of the light while dir is a normed vector showing the direction of light propagation\n",
    "        # below are simple geometries\n",
    "        l = self.center - orig\n",
    "        tca = l * dir\n",
    "        minD2 = l*l - tca*tca\n",
    "        # minD2 is the square of distance between light and center\n",
    "        if (minD2 > self.r*self.r):\n",
    "            return (False,None)\n",
    "        thc = (self.r*self.r - minD2)**0.5\n",
    "        t0 = tca - thc\n",
    "        t1 = tca + thc\n",
    "        # if the origin starts within the sphere, t0 = t1\n",
    "        if (t0<0):\n",
    "            t0 = t1\n",
    "        # meaning intersect in the opposite direction\n",
    "        if (t0<0):\n",
    "            return (False,None)\n",
    "        return (True,t0)"
   ]
  },
  {
   "cell_type": "code",
   "execution_count": null,
   "metadata": {},
   "outputs": [],
   "source": [
    "def cast_ray(orig,dir,objs):\n",
    "    for obj in objs:\n",
    "        if (obj.rayIntersect(orig,dir)[0]):\n",
    "            # if intersect, return the object's color\n",
    "            return Vector3f(0.4,0.4,0.3)\n",
    "    # if not , return the background color\n",
    "    return Vector3f(0.2, 0.7, 0.8)"
   ]
  },
  {
   "cell_type": "code",
   "execution_count": null,
   "metadata": {},
   "outputs": [],
   "source": [
    "def renderMinimalRayTracing(spheres):\n",
    "    # create a frame buffer: framebuffer[width][height]\n",
    "    WIDTH = 1000\n",
    "    HEIGHT = 1000\n",
    "    HFOV = math.tan(0.5)\n",
    "    FILENAME = \"renderMinimalRayTracing.ppm\"\n",
    "    framebuffer = [[Vector3f(1,1,1) for y in range(HEIGHT)] for x in range(WIDTH)]\n",
    "    # manipulate the frame buffer\n",
    "    ori = Vector3f(0,0,0) # the position of camera\n",
    "    for x in range(WIDTH):\n",
    "        for y in range(HEIGHT):\n",
    "            # this calculation of dir is just a approxiamation, \n",
    "            # the filed of view indeed is not a cone and other geometric factors are not concerned\n",
    "            # any way, it's still enough for this tiny project\n",
    "            dir_x = (2*x/WIDTH-1)*HFOV*WIDTH/HEIGHT\n",
    "            dir_y = (2*y/HEIGHT-1)*HFOV\n",
    "            dir = Vector3f(dir_x,dir_y,-1)\n",
    "            dir.normalize()\n",
    "            framebuffer[x][y] = cast_ray(ori,dir,spheres)\n",
    "    # Save it on disk\n",
    "    imageFile = open(FILENAME,\"w\")\n",
    "    imageFile.write(\"P3\\n\")\n",
    "    imageFile.write(\"%i %i \\n255\\n\"%(HEIGHT,WIDTH))\n",
    "    for x in range(WIDTH):\n",
    "        for y in range(HEIGHT):\n",
    "            for color in framebuffer[x][y]:\n",
    "                temp = int(255 * max(0,min(color,1)))\n",
    "                imageFile.write(str(temp)+\" \")\n",
    "    imageFile.close()"
   ]
  },
  {
   "cell_type": "code",
   "execution_count": null,
   "metadata": {},
   "outputs": [],
   "source": [
    "s = [Sphere(0,0,-3,1),Sphere(0,1,-4,1),Sphere(2.5,-2,-5,1)]\n",
    "renderMinimalRayTracing(s)"
   ]
  },
  {
   "source": [
    "## Add trivial materials"
   ],
   "cell_type": "markdown",
   "metadata": {}
  },
  {
   "cell_type": "code",
   "execution_count": null,
   "metadata": {},
   "outputs": [],
   "source": [
    "class Material:\n",
    "    def __init__(self,diffuse_color):\n",
    "        self.diffuse_color = diffuse_color"
   ]
  },
  {
   "cell_type": "code",
   "execution_count": null,
   "metadata": {},
   "outputs": [],
   "source": [
    "class Sphere:\n",
    "    def __init__(self,x,y,z,r,material):\n",
    "        self.center = Vector3f(x,y,z)\n",
    "        self.r = r\n",
    "        self.material = material\n",
    "\n",
    "    def rayIntersect(self,orig,dir):\n",
    "        '''\n",
    "        Paras:\n",
    "        orig: the origin of the light \n",
    "        dir:  a normed vector showing the direction of light propagation\n",
    "\n",
    "        Return value (hit,t0)\n",
    "        hit: a boolean value showing whether intersect\n",
    "        t0: the distance from orig to intersection point\n",
    "        '''\n",
    "        # below are simple geometries\n",
    "        l = self.center - orig\n",
    "        tca = l * dir\n",
    "        minD2 = l*l - tca*tca\n",
    "        # minD2 is the square of distance between light and center\n",
    "        if (minD2 > self.r*self.r):\n",
    "            return (False,None)\n",
    "        thc = (self.r*self.r - minD2)**0.5\n",
    "        t0 = tca - thc\n",
    "        t1 = tca + thc\n",
    "        # if the origin starts within the sphere, t0 = t1\n",
    "        if (t0<0):\n",
    "            t0 = t1\n",
    "        # meaning intersect in the opposite direction\n",
    "        if (t0<0):\n",
    "            return (False,None)\n",
    "        return (True,t0)"
   ]
  },
  {
   "cell_type": "code",
   "execution_count": null,
   "metadata": {},
   "outputs": [],
   "source": [
    "def scene_intersect(orig,dir,objs):\n",
    "    '''\n",
    "    The return value: (hit,N,material)\n",
    "    hit: if hit an object\n",
    "    N: the normal vector at intersection\n",
    "    material: the material of the intersected object\n",
    "    hit_point: the point where hit\n",
    "    '''\n",
    "    minT0 = float(\"inf\")\n",
    "    N = None\n",
    "    material = None\n",
    "    hit_position = None\n",
    "    for obj in objs:\n",
    "        (hit, t0) = obj.rayIntersect(orig,dir)\n",
    "        if (hit and t0 < minT0):\n",
    "            minT0 = t0\n",
    "            hit_position = orig+t0*dir\n",
    "            N = (hit_position - obj.center)\n",
    "            N.normalize()\n",
    "            material = obj.material\n",
    "    return (minT0 < float(\"inf\"),N,material,hit_position)"
   ]
  },
  {
   "cell_type": "code",
   "execution_count": null,
   "metadata": {},
   "outputs": [],
   "source": [
    "def cast_ray(orig,dir,objs):\n",
    "    (hit,N,material,hitpoint) =  scene_intersect(orig,dir,objs)\n",
    "    if (hit):\n",
    "        return material.diffuse_color\n",
    "    return Vector3f(0.2, 0.7, 0.8); # background color"
   ]
  },
  {
   "cell_type": "code",
   "execution_count": null,
   "metadata": {},
   "outputs": [],
   "source": [
    "def renderRayTracingWithMaterial(objs):\n",
    "    # create a frame buffer: framebuffer[width][height]\n",
    "    WIDTH = 1000\n",
    "    HEIGHT = 1000\n",
    "    HFOV = math.tan(0.5)\n",
    "    FILENAME = \"renderMinimalRayTracing.ppm\"\n",
    "    framebuffer = [[Vector3f(1,1,1) for y in range(HEIGHT)] for x in range(WIDTH)]\n",
    "    # manipulate the frame buffer\n",
    "    ori = Vector3f(0,0,0) # the position of camera\n",
    "    for x in range(WIDTH):\n",
    "        for y in range(HEIGHT):\n",
    "            # this calculation of dir is just a approxiamation, \n",
    "            # the filed of view indeed is not a cone and other geometric factors are not concerned\n",
    "            # any way, it's still enough for this tiny project\n",
    "            dir_x = (2*x/WIDTH-1)*HFOV*WIDTH/HEIGHT\n",
    "            dir_y = (2*y/HEIGHT-1)*HFOV\n",
    "            dir = Vector3f(dir_x,dir_y,-1)\n",
    "            dir.normalize()\n",
    "            framebuffer[x][y] = cast_ray(ori,dir,objs)\n",
    "    # Save it on disk\n",
    "    imageFile = open(FILENAME,\"w\")\n",
    "    imageFile.write(\"P3\\n\")\n",
    "    imageFile.write(\"%i %i \\n255\\n\"%(HEIGHT,WIDTH))\n",
    "    for x in range(WIDTH):\n",
    "        for y in range(HEIGHT):\n",
    "            for color in framebuffer[x][y]:\n",
    "                temp = int(255 * max(0,min(color,1)))\n",
    "                imageFile.write(str(temp)+\" \")\n",
    "    imageFile.close()"
   ]
  },
  {
   "cell_type": "code",
   "execution_count": null,
   "metadata": {},
   "outputs": [],
   "source": [
    "ivory =  Material(Vector3f(0.4, 0.4, 0.3));\n",
    "red_rubber = Material(Vector3f(0.3, 0.1, 0.1));\n",
    "\n",
    "s = [Sphere(0,0,-3,1,red_rubber),Sphere(0,1,-4,1,ivory),Sphere(2.5,-2,-5,1,red_rubber)]\n",
    "renderMinimalRayTracing(s)"
   ]
  },
  {
   "source": [
    "## Let there be (false) diffuse light"
   ],
   "cell_type": "markdown",
   "metadata": {}
  },
  {
   "cell_type": "code",
   "execution_count": null,
   "metadata": {},
   "outputs": [],
   "source": [
    "class Light:\n",
    "    def __init__(self,x,y,z,intensity):\n",
    "        self.position =Vector3f(x,y,z)\n",
    "        self.intensity = intensity"
   ]
  },
  {
   "source": [
    "How does it consider light blcoked by object?"
   ],
   "cell_type": "markdown",
   "metadata": {}
  },
  {
   "cell_type": "code",
   "execution_count": null,
   "metadata": {},
   "outputs": [],
   "source": [
    "def scene_intersect(orig,dir,objs):\n",
    "    '''\n",
    "    The return value: (hit,N,material)\n",
    "    hit: if hit an object\n",
    "    N: the normal vector at intersection\n",
    "    material: the material of the intersected object\n",
    "    hit_point: the point where hit\n",
    "    '''\n",
    "    minT0 = float(\"inf\")\n",
    "    N = None\n",
    "    material = None\n",
    "    hit_position = None\n",
    "    for obj in objs:\n",
    "        (hit, t0) = obj.rayIntersect(orig,dir)\n",
    "        if (hit and t0 < minT0):\n",
    "            minT0 = t0\n",
    "            hit_position = orig+t0*dir\n",
    "            N = (hit_position - obj.center)\n",
    "            N.normalize()\n",
    "            material = obj.material\n",
    "    return (minT0 < 10000,N,material,hit_position)\n"
   ]
  },
  {
   "cell_type": "code",
   "execution_count": null,
   "metadata": {},
   "outputs": [],
   "source": [
    "def cast_ray(orig,dir,objs,lights):\n",
    "    (hit,N,material,hit_point) =  scene_intersect(orig,dir,objs)\n",
    "    if (hit):\n",
    "        diffuse_light_intensity = 0\n",
    "        for light in lights:  \n",
    "            light_dir = (light.position - hit_point)\n",
    "            light_dir.normalize()\n",
    "            intense = max(0,light_dir*N)\n",
    "            diffuse_light_intensity += light.intensity * intense\n",
    "        return diffuse_light_intensity * material.diffuse_color \n",
    "    return Vector3f(0.2, 0.7, 0.8); # background color"
   ]
  },
  {
   "cell_type": "code",
   "execution_count": null,
   "metadata": {},
   "outputs": [],
   "source": [
    "def renderRayTracingWithLight(objs,lights):\n",
    "    # create a frame buffer: framebuffer[width][height]\n",
    "    WIDTH = 1000\n",
    "    HEIGHT = 1000\n",
    "    HFOV = math.tan(0.5)\n",
    "    FILENAME = \"renderMinimalRayTracing.ppm\"\n",
    "    framebuffer = [[Vector3f(1,1,1) for y in range(HEIGHT)] for x in range(WIDTH)]\n",
    "    # manipulate the frame buffer\n",
    "    ori = Vector3f(0,0,0) # the position of camera\n",
    "    for x in range(WIDTH):\n",
    "        for y in range(HEIGHT):\n",
    "            # this calculation of dir is just a approxiamation, \n",
    "            # the filed of view indeed is not a cone and other geometric factors are not concerned\n",
    "            # any way, it's still enough for this tiny project\n",
    "            dir_x = (2*x/WIDTH-1)*HFOV*WIDTH/HEIGHT\n",
    "            dir_y = (2*y/HEIGHT-1)*HFOV\n",
    "            dir = Vector3f(dir_x,dir_y,-1)\n",
    "            dir.normalize()\n",
    "            framebuffer[x][y] = cast_ray(ori,dir,objs,lights)\n",
    "    # Save it on disk\n",
    "    imageFile = open(FILENAME,\"w\")\n",
    "    imageFile.write(\"P3\\n\")\n",
    "    imageFile.write(\"%i %i \\n255\\n\"%(HEIGHT,WIDTH))\n",
    "    for x in range(WIDTH):\n",
    "        for y in range(HEIGHT):\n",
    "            for color in framebuffer[x][y]:\n",
    "                temp = int(255 * max(0,min(color,1)))\n",
    "                imageFile.write(str(temp)+\" \")\n",
    "    imageFile.close()"
   ]
  },
  {
   "cell_type": "code",
   "execution_count": null,
   "metadata": {
    "tags": []
   },
   "outputs": [],
   "source": [
    "ivory =  Material(Vector3f(0.4, 0.4, 0.3));\n",
    "red_rubber = Material(Vector3f(0.3, 0.1, 0.1));\n",
    "objs = [Sphere(0,0,-3,1,red_rubber),Sphere(0,1,-4,1,ivory),Sphere(2.5,-2,-5,1,red_rubber)]\n",
    "lights = [Light(1,0,0,3),Light(1,0,-3,0.4)]\n",
    "renderRayTracingWithLight(objs,lights)"
   ]
  },
  {
   "source": [],
   "cell_type": "markdown",
   "metadata": {}
  },
  {
   "source": [
    "## Let there be (false) specular light"
   ],
   "cell_type": "markdown",
   "metadata": {}
  },
  {
   "cell_type": "code",
   "execution_count": null,
   "metadata": {},
   "outputs": [],
   "source": [
    "class Material:\n",
    "    def __init__(self,diffuse_color,spec,albedo):\n",
    "        self.diffuse_color = diffuse_color\n",
    "        self.spec = spec\n",
    "        self.albedo = albedo"
   ]
  },
  {
   "cell_type": "code",
   "execution_count": null,
   "metadata": {},
   "outputs": [],
   "source": [
    "def reflect(I,N):\n",
    "    return I - 2*(I*N) *N"
   ]
  },
  {
   "cell_type": "code",
   "execution_count": null,
   "metadata": {},
   "outputs": [],
   "source": [
    "def cast_ray(orig,dir,objs,lights):\n",
    "    (hit,N,material,hit_point) =  scene_intersect(orig,dir,objs)\n",
    "    if (hit):\n",
    "        diffuse_light_intensity = 0\n",
    "        specular_light_intensity = 0\n",
    "        for light in lights:  \n",
    "            light_dir = (light.position - hit_point)\n",
    "            light_dir.normalize()\n",
    "            intense = max(0,light_dir*N)\n",
    "            diffuse_light_intensity += light.intensity * intense\n",
    "            specular_light_intensity += light.intensity * (max(0,reflect(light_dir,N)*dir) ** material.spec)\n",
    "        return  material.albedo[0] * diffuse_light_intensity * material.diffuse_color + specular_light_intensity*material.albedo[1]* Vector3f(1,1,1)\n",
    "    return Vector3f(0.2, 0.7, 0.8); # background color"
   ]
  },
  {
   "cell_type": "code",
   "execution_count": null,
   "metadata": {},
   "outputs": [],
   "source": [
    "def renderRayTracingWithSpecularLight(objs,lights):\n",
    "    # create a frame buffer: framebuffer[width][height]\n",
    "    WIDTH = 1000\n",
    "    HEIGHT = 1000\n",
    "    HFOV = math.tan(0.5)\n",
    "    FILENAME = \"renderMinimalRayTracing.ppm\"\n",
    "    framebuffer = [[Vector3f(1,1,1) for y in range(HEIGHT)] for x in range(WIDTH)]\n",
    "    # manipulate the frame buffer\n",
    "    ori = Vector3f(0,0,0) # the position of camera\n",
    "    for x in range(WIDTH):\n",
    "        for y in range(HEIGHT):\n",
    "            # this calculation of dir is just a approxiamation, \n",
    "            # the filed of view indeed is not a cone and other geometric factors are not concerned\n",
    "            # any way, it's still enough for this tiny project\n",
    "            dir_x = (2*x/WIDTH-1)*HFOV*WIDTH/HEIGHT\n",
    "            dir_y = (2*y/HEIGHT-1)*HFOV\n",
    "            dir = Vector3f(dir_x,dir_y,-1)\n",
    "            dir.normalize()\n",
    "            framebuffer[x][y] = cast_ray(ori,dir,objs,lights)\n",
    "    # Save it on disk\n",
    "    imageFile = open(FILENAME,\"w\")\n",
    "    imageFile.write(\"P3\\n\")\n",
    "    imageFile.write(\"%i %i \\n255\\n\"%(HEIGHT,WIDTH))\n",
    "    for x in range(WIDTH):\n",
    "        for y in range(HEIGHT):\n",
    "            for color in framebuffer[x][y]:\n",
    "                temp = int(255 * max(0,min(color,1)))\n",
    "                imageFile.write(str(temp)+\" \")\n",
    "    imageFile.close()"
   ]
  },
  {
   "cell_type": "code",
   "execution_count": null,
   "metadata": {},
   "outputs": [],
   "source": [
    "ivory =  Material(Vector3f(0.4, 0.4, 0.3),50,[0.6,0.3])\n",
    "red_rubber = Material(Vector3f(0.3, 0.1, 0.1),10,[0.9,0.1])\n",
    "objs = [Sphere(0,0,-3,1,red_rubber),Sphere(0,1,-4,1,ivory),Sphere(2.5,-2,-5,1,red_rubber)]\n",
    "lights = [Light(-20,20,20,1.5),Light(30,50,-25,1.8),Light(30,20,30,1.7)]\n",
    "renderRayTracingWithLight(objs,lights)"
   ]
  },
  {
   "source": [
    "## Let there be shadows"
   ],
   "cell_type": "markdown",
   "metadata": {}
  },
  {
   "cell_type": "code",
   "execution_count": null,
   "metadata": {},
   "outputs": [],
   "source": [
    "def cast_ray(orig,dir,objs,lights):\n",
    "    (hit,N,material,hit_point) =  scene_intersect(orig,dir,objs)\n",
    "    if (hit):\n",
    "        diffuse_light_intensity = 0\n",
    "        specular_light_intensity = 0\n",
    "        for light in lights:  \n",
    "            light_dir = (light.position - hit_point)\n",
    "            light_dir.normalize()\n",
    "\n",
    "            # check if objects between light source and hit point\n",
    "            light_distance = light_dir.norm()\n",
    "            shadow_orig = None\n",
    "            if (light_dir*N < 0):\n",
    "                shadow_orig = hit_point - 0.0001 *  N \n",
    "            else:\n",
    "                shadow_orig = hit_point + 0.0001 * N \n",
    "            (shadow_hit,shadow_N,shadow_material,shadow_hit_point) =  scene_intersect(shadow_orig,light_dir,objs)\n",
    "            if (shadow_hit and (shadow_hit_point - shadow_orig).norm() < light_distance):\n",
    "                continue\n",
    "            intense = max(0,light_dir*N)\n",
    "            diffuse_light_intensity += light.intensity * intense\n",
    "            specular_light_intensity += light.intensity * (max(0,reflect(light_dir,N)*dir) ** material.spec)\n",
    "            # print(\"one light\"+str(diffuse_light_intensity)+\" \"+ str(specular_light_intensity)+\"\\n\")\n",
    "        return  material.albedo[0] * diffuse_light_intensity * material.diffuse_color + specular_light_intensity*material.albedo[1] * Vector3f(1,1,1)\n",
    "    return Vector3f(0.2, 0.7, 0.8); # background color"
   ]
  },
  {
   "cell_type": "code",
   "execution_count": null,
   "metadata": {
    "tags": []
   },
   "outputs": [],
   "source": [
    "ivory =  Material(Vector3f(0.4, 0.4, 0.3),50,[0.6,0.3])\n",
    "red_rubber = Material(Vector3f(0.3, 0.1, 0.1),10,[0.9,0.1])\n",
    "objs = [Sphere(-3,0,-16,2,ivory),Sphere(-1,-1.5,-12,2,red_rubber),Sphere(1.5,-0.5,-18,3,red_rubber),Sphere(7,5,-18,4,ivory)]\n",
    "lights = [Light(-20,20,20,1.5),Light(30,50,-25,1.8),Light(30,20,30,1.7),Light(0,0,1,2)]\n",
    "renderRayTracingWithSpecularLight(objs,lights)"
   ]
  },
  {
   "source": [
    "## Let there be reflections:"
   ],
   "cell_type": "markdown",
   "metadata": {}
  },
  {
   "cell_type": "code",
   "execution_count": null,
   "metadata": {},
   "outputs": [],
   "source": [
    "def cast_ray(orig,dir,objs,lights,depth=0):\n",
    "    (hit,N,material,hit_point) =  scene_intersect(orig,dir,objs)\n",
    "    if (depth >4 or not hit):\n",
    "            return Vector3f(0.2, 0.7, 0.8); # background color\n",
    "    else:\n",
    "        # reflection term\n",
    "        reflect_dir = reflect(dir,N)\n",
    "        reflect_orig = None\n",
    "        if (reflect_dir*N <0):\n",
    "            reflect_orig = hit_point - 0.0001 * N\n",
    "        else:\n",
    "            reflect_orig = hit_point + 0.0001 * N\n",
    "        reflect_color = None\n",
    "        if not material.albedo[2] = 0:\n",
    "            reflect_color = cast_ray(reflect_orig,reflect_dir,objs,lights,depth+1)\n",
    "        else:\n",
    "            reflect_color = Vector3f(0,0,0)\n",
    "        \n",
    "        diffuse_light_intensity = 0\n",
    "        specular_light_intensity = 0\n",
    "        for light in lights:  \n",
    "            light_dir = (light.position - hit_point)\n",
    "            light_dir.normalize()\n",
    "\n",
    "            # check if objects between light source and hit point\n",
    "            light_distance = light_dir.norm()\n",
    "            shadow_orig = None\n",
    "            if (light_dir*N < 0):\n",
    "                shadow_orig = hit_point - 0.0001 *  N \n",
    "            else:\n",
    "                shadow_orig = hit_point + 0.0001 * N \n",
    "            (shadow_hit,shadow_N,shadow_material,shadow_hit_point) =  scene_intersect(shadow_orig,light_dir,objs)\n",
    "            if (shadow_hit and (shadow_hit_point - shadow_orig).norm() < light_distance):\n",
    "                continue\n",
    "            intense = max(0,light_dir*N)\n",
    "            diffuse_light_intensity += light.intensity * intense\n",
    "            specular_light_intensity += light.intensity * (max(0,reflect(light_dir,N)*dir) ** material.spec)\n",
    "            # print(\"one light\"+str(diffuse_light_intensity)+\" \"+ str(specular_light_intensity)+\"\\n\")\n",
    "        return  material.albedo[0] * diffuse_light_intensity * material.diffuse_color + specular_light_intensity*material.albedo[1]* Vector3f(1,1,1) + material.albedo[2] * reflect_color\n",
    "    return Vector3f(0.2, 0.7, 0.8); # background color"
   ]
  },
  {
   "cell_type": "code",
   "execution_count": null,
   "metadata": {},
   "outputs": [],
   "source": [
    "ivory =  Material(Vector3f(0.4, 0.4, 0.3),50,[0.6,0.3,0.1])\n",
    "red_rubber = Material(Vector3f(0.3, 0.1, 0.1),10,[0.9,0.1,0])\n",
    "mirror = Material(Vector3f(1,1,1),1425,[0,10,0.8])\n",
    "objs = [Sphere(-3,0,-16,2,ivory),Sphere(-1,-1.5,-12,2,red_rubber),Sphere(1.5,-0.5,-18,3,red_rubber),Sphere(7,5,-18,4,mirror)]\n",
    "lights = [Light(-20,20,20,1.5),Light(30,50,-25,1.8),Light(30,20,30,1.7),Light(0,0,1,2)]\n",
    "renderRayTracingWithSpecularLight(objs,lights)"
   ]
  },
  {
   "source": [
    "## Let there be refraction"
   ],
   "cell_type": "markdown",
   "metadata": {}
  },
  {
   "cell_type": "code",
   "execution_count": null,
   "metadata": {},
   "outputs": [],
   "source": [
    "class Material:\n",
    "    def __init__(self,diffuse_color,spec,albedo=[1,0,0,0],refractive_index=1):\n",
    "        self.diffuse_color = diffuse_color\n",
    "        self.spec = spec\n",
    "        self.albedo = albedo\n",
    "        self.refractive_index = refractive_index\n",
    "\n",
    "def refract(I,N,refractive_index):\n",
    "    cosi = - max(-1,min(1,I*N))\n",
    "    etai = 1\n",
    "    etat = refractive_index\n",
    "    if (cosi < 0):\n",
    "        cosi = - cosi\n",
    "        temp = etai\n",
    "        etai = etat\n",
    "        etat = temp\n",
    "        N = Vector3f(0,0,0) - N\n",
    "    eta = etai/etat\n",
    "    k = 1 - eta*eta*(1-cosi*cosi)\n",
    "    if (k<0):\n",
    "        return Vector3f(0,0,0)\n",
    "    else:\n",
    "        return eta * I +  (cosi*eta-math.sqrt(k)) * N"
   ]
  },
  {
   "cell_type": "code",
   "execution_count": null,
   "metadata": {},
   "outputs": [],
   "source": [
    "def cast_ray(orig,dir,objs,lights,depth=0):\n",
    "    (hit,N,material,hit_point) =  scene_intersect(orig,dir,objs)\n",
    "    if (depth >4 or not hit):\n",
    "            return Vector3f(0.2, 0.7, 0.8); # background color\n",
    "    else:\n",
    "        # reflection term\n",
    "        reflect_dir = reflect(dir,N)\n",
    "        reflect_orig = None\n",
    "        if (reflect_dir*N <0):\n",
    "            reflect_orig = hit_point - 0.0001 * N\n",
    "        else:\n",
    "            reflect_orig = hit_point + 0.0001 * N\n",
    "        reflect_color = None\n",
    "        if not material.albedo[2] == 0:\n",
    "            reflect_color = cast_ray(reflect_orig,reflect_dir,objs,lights,depth+1)\n",
    "        else:\n",
    "            reflect_color = Vector3f(0,0,0)        \n",
    "        #  refraction term\n",
    "        refract_dir = refract(dir,N,material.refractive_index)\n",
    "        refract_orig = None\n",
    "        if (refract_dir*N <0):\n",
    "            refract_orig = hit_point - 0.0001 * N\n",
    "        else:\n",
    "            refract_orig = hit_point + 0.0001 * N\n",
    "        refract_color = None\n",
    "        if not (material.albedo[3] == 0):\n",
    "            refract_color = cast_ray(refract_orig,refract_dir,objs,lights,depth+1)\n",
    "        else:\n",
    "            refract_color = Vector3f(0,0,0)    \n",
    "\n",
    "\n",
    "        diffuse_light_intensity = 0\n",
    "        specular_light_intensity = 0\n",
    "        for light in lights:  \n",
    "            light_dir = (light.position - hit_point)\n",
    "            light_dir.normalize()\n",
    "\n",
    "            # check if objects between light source and hit point\n",
    "            light_distance = light_dir.norm()\n",
    "            shadow_orig = None\n",
    "            if (light_dir*N < 0):\n",
    "                shadow_orig = hit_point - 0.0001 *  N \n",
    "            else:\n",
    "                shadow_orig = hit_point + 0.0001 * N \n",
    "            (shadow_hit,shadow_N,shadow_material,shadow_hit_point) =  scene_intersect(shadow_orig,light_dir,objs)\n",
    "            if (shadow_hit and (shadow_hit_point - shadow_orig).norm() < light_distance):\n",
    "                continue\n",
    "            intense = max(0,light_dir*N)\n",
    "            diffuse_light_intensity += light.intensity * intense\n",
    "            specular_light_intensity += light.intensity * (max(0,reflect(light_dir,N)*dir) ** material.spec)\n",
    "            # print(\"one light\"+str(diffuse_light_intensity)+\" \"+ str(specular_light_intensity)+\"\\n\")\n",
    "        return  material.albedo[0] * diffuse_light_intensity * material.diffuse_color + specular_light_intensity*material.albedo[1]* Vector3f(1,1,1) + material.albedo[2] * reflect_color + material.albedo[3] * refract_color \n",
    "    return Vector3f(0.2, 0.7, 0.8); # background color"
   ]
  },
  {
   "cell_type": "code",
   "execution_count": null,
   "metadata": {},
   "outputs": [],
   "source": [
    "ivory =  Material(Vector3f(0.4, 0.4, 0.3),50,[0.6,0.3,0.1,0],1)\n",
    "red_rubber = Material(Vector3f(0.3, 0.1, 0.1),10,[0.9,0.1,0,0],1)\n",
    "mirror = Material(Vector3f(1,1,1),1425,[0,10,0.8,0],1)\n",
    "glass = Material(Vector3f(0.6,0.7,0.8),125,[0.0,0.5,0.1,0.8],1.5)\n",
    "objs = [Sphere(-3,0,-16,2,ivory),Sphere(-1,-1.5,-12,2,glass),Sphere(1.5,-0.5,-18,3,red_rubber),Sphere(7,5,-18,4,mirror)]\n",
    "lights = [Light(-20,20,20,1.5),Light(30,50,-25,1.8),Light(30,20,30,1.7),Light(0,0,1,2)]\n",
    "renderRayTracingWithSpecularLight(objs,lights)"
   ]
  },
  {
   "source": [
    "## One more thing: Add a classic chessbox plane"
   ],
   "cell_type": "markdown",
   "metadata": {}
  },
  {
   "source": [
    "This implementation of checkboard is rather a hack"
   ],
   "cell_type": "markdown",
   "metadata": {}
  },
  {
   "cell_type": "code",
   "execution_count": null,
   "metadata": {},
   "outputs": [],
   "source": [
    "def scene_intersect(orig,dir,objs):\n",
    "    '''\n",
    "    The return value: (hit,N,material)\n",
    "    hit: if hit an object\n",
    "    N: the normal vector at intersection\n",
    "    material: the material of the intersected object\n",
    "    hit_point: the point where hit\n",
    "    '''\n",
    "    minT0 = float(\"inf\")\n",
    "    N = None\n",
    "    material = None\n",
    "    hit_position = None\n",
    "    for obj in objs:\n",
    "        (hit, t0) = obj.rayIntersect(orig,dir)\n",
    "        if (hit and t0 < minT0):\n",
    "            minT0 = t0\n",
    "            hit_position = orig+t0*dir\n",
    "            N = (hit_position - obj.center)\n",
    "            N.normalize()\n",
    "            material = obj.material\n",
    "    chessboard_dist = float(\"inf\")\n",
    "    if (abs(dir.y)>0.0001):\n",
    "        chessboard_d = - (orig.y+4)/dir.y # chessboard is at y = - 4\n",
    "        chessboard_hit_position = orig + chessboard_d * dir\n",
    "        if (chessboard_d>0 and abs(chessboard_hit_position.x)<10 and chessboard_hit_position.z<-10 and chessboard_hit_position.z > -30 and chessboard_d < minT0): # first hit the chessboard within the board region\n",
    "            minT0 =  chessboard_d\n",
    "            hit_position = chessboard_hit_position\n",
    "            N = Vector3f(0,1,0); # for general purpose, consider + -\n",
    "            chessboard_material_diffuse_color = None\n",
    "            if ((int(0.5*hit_position.x+1000)+int(0.5+hit_position.z))&1):\n",
    "                chessboard_material_diffuse_color = Vector3f(0.3,0.3,0.3)\n",
    "            else:\n",
    "                chessboard_material_diffuse_color = Vector3f(0.3,0.2,0.1)\n",
    "            material = Material(chessboard_material_diffuse_color,50)\n",
    "    return (minT0 < float(\"inf\"),N,material,hit_position)"
   ]
  },
  {
   "cell_type": "code",
   "execution_count": null,
   "metadata": {},
   "outputs": [],
   "source": [
    "ivory =  Material(Vector3f(0.4, 0.4, 0.3),50,[0.6,0.3,0.1,0],1)\n",
    "red_rubber = Material(Vector3f(0.3, 0.1, 0.1),10,[0.9,0.1,0,0],1)\n",
    "mirror = Material(Vector3f(1,1,1),1425,[0,10,0.8,0],1)\n",
    "glass = Material(Vector3f(0.6,0.7,0.8),125,[0.0,0.5,0.1,0.8],1.5)\n",
    "objs = [Sphere(-3,0,-16,2,ivory),Sphere(-1,-1.5,-12,2,glass),Sphere(1.5,-0.5,-18,3,red_rubber),Sphere(7,5,-18,4,mirror)]\n",
    "lights = [Light(-20,20,20,1.5),Light(30,50,-25,1.8),Light(30,20,30,1.7),Light(0,0,1,2)]\n",
    "renderRayTracingWithSpecularLight(objs,lights)"
   ]
  },
  {
   "source": [
    "## We are done!"
   ],
   "cell_type": "markdown",
   "metadata": {}
  },
  {
   "cell_type": "code",
   "execution_count": null,
   "metadata": {},
   "outputs": [],
   "source": []
  }
 ]
}